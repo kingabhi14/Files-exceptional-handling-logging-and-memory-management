{
  "nbformat": 4,
  "nbformat_minor": 0,
  "metadata": {
    "colab": {
      "provenance": []
    },
    "kernelspec": {
      "name": "python3",
      "display_name": "Python 3"
    },
    "language_info": {
      "name": "python"
    }
  },
  "cells": [
    {
      "cell_type": "markdown",
      "source": [
        "#FILES, AND EXCEPTIONAL HANDLING LOGGING, AND MEMORY MANAGEMENTS QUESTONS\n",
        "\n"
      ],
      "metadata": {
        "id": "Vuvy0XCvfQ4_"
      }
    },
    {
      "cell_type": "markdown",
      "source": [
        "Q1.What is the difference between interpreted and compiled languages?\n",
        "\n",
        ".In compiled languages, the entire program is converted into machine code before running, while in interpreted languages, the code is executed line by line."
      ],
      "metadata": {
        "id": "6FAVCNdWgCk5"
      }
    },
    {
      "cell_type": "markdown",
      "source": [
        "Q2.What is exception handling in Python?\n",
        "\n",
        ".Exception handling in Python is a way to manage and respond to errors that occur while a program is running. It allows a program to continue running or exit gracefully instead of crashing."
      ],
      "metadata": {
        "id": "VTvkiCvUgolI"
      }
    },
    {
      "cell_type": "markdown",
      "source": [
        "Q3.What is the purpose of the finally block in exception handling?\n",
        "\n",
        ".The purpose of a finally block in exception handling is to ensure that important code is executed regardless of whether an exception is thrown. This code is often used for resource cleanup, such as closing files or releasing database connections."
      ],
      "metadata": {
        "id": "6bGBf3I1g_Ko"
      }
    },
    {
      "cell_type": "markdown",
      "source": [
        "Q4.What is logging in Python?\n",
        "\n",
        ".Python logging is a module that allows you to track events that occur while your program is running."
      ],
      "metadata": {
        "id": "NJlZ0R-1hUHZ"
      }
    },
    {
      "cell_type": "markdown",
      "source": [
        "Q5.What is the significance of the __del__ method in Python?\n",
        "\n",
        ".In Python, the __del__ method, also known as a destructor, is a special method that is called automatically when an object is about to be deleted from memory, allowing you to perform any necessary cleanup tasks like releasing external resources held by the object before it is completely removed by the garbage collector."
      ],
      "metadata": {
        "id": "Euud4mobht45"
      }
    },
    {
      "cell_type": "markdown",
      "source": [
        "Q6.What is the difference between import and from ... import in Python?\n",
        "\n",
        ".The import statement is used to import a module or a module's attribute into the current namespace. It allows you to access the module's attributes by prefixing them with the module name.\n",
        "\n",
        "On the other hand, the from statement is used to import specific attributes from a module into the current namespace. With the from statement, you can import only the attributes that you need, instead of the entire module."
      ],
      "metadata": {
        "id": "LanX29BsiHdB"
      }
    },
    {
      "cell_type": "markdown",
      "source": [
        "Q7.How can you handle multiple exceptions in Python?\n",
        "\n",
        ".In Python, multiple exceptions can be handled by using multiple except blocks or a single except block with a tuple of exception types."
      ],
      "metadata": {
        "id": "4-4dlUNDiyyw"
      }
    },
    {
      "cell_type": "markdown",
      "source": [
        "Q8.What is the purpose of the with statement when handling files in Python?\n",
        "\n",
        ".The with statement in Python manages resources like files, database connections, and network sockets. It ensures that resources are properly initialized and closed, even if an exception occurs. This makes code cleaner, more readable, and more efficient."
      ],
      "metadata": {
        "id": "vGAzsm-djUB_"
      }
    },
    {
      "cell_type": "markdown",
      "source": [
        "Q9.What is the difference between multithreading and multiprocessing?\n",
        "\n",
        ".Multithreading and multiprocessing are both ways to increase computing power by running multiple processes or threads simultaneously. The main difference is that multithreading uses a single processor with multiple threads, while multiprocessing uses multiple processors."
      ],
      "metadata": {
        "id": "X7p21yK5jtw-"
      }
    },
    {
      "cell_type": "markdown",
      "source": [
        "Q10.What are the advantages of using logging in a program?\n",
        "\n",
        ".Logging in a program helps developers identify and fix issues, monitor performance, and improve security. It can also help improve customer experience and reduce response times."
      ],
      "metadata": {
        "id": "PB7DnetskEp_"
      }
    },
    {
      "cell_type": "markdown",
      "source": [
        "Q11. What is memory management in Python?\n",
        "\n",
        ".Memory management in Python is the process of allocating and releasing memory so that programs run efficiently. Python uses dynamic and static memory allocation techniques, and a garbage collector to deallocate memory."
      ],
      "metadata": {
        "id": "E0zxdEzjkciG"
      }
    },
    {
      "cell_type": "markdown",
      "source": [
        "Q12.What are the basic steps involved in exception handling in Python?\n",
        "\n",
        "The basic steps for exception handling in Python are to use the try, except, else, and finally blocks.\n",
        "Steps:\n",
        "\n",
        "Try block: This block contains the code that may raise an exception.\n",
        "\n",
        "Except block: This block handles the exception that is raised in the try block.\n",
        "\n",
        "Else block: This block is optional and runs if no exception is raised in the try block.\n",
        "\n",
        "Finally block: This block always runs, regardless of whether an exception occurred or not."
      ],
      "metadata": {
        "id": "pkOhBJb1kxgI"
      }
    },
    {
      "cell_type": "markdown",
      "source": [
        "Q13.Why is memory management important in Python?\n",
        "\n",
        ".Memory management in Python is important because it helps prevent errors and crashes, and it allows for more efficient code."
      ],
      "metadata": {
        "id": "4CV-VRRXlO3e"
      }
    },
    {
      "cell_type": "markdown",
      "source": [
        "Q14.What is the role of try and except in exception handling?\n",
        "\n",
        ".In Python, the try and except blocks are used to handle errors, or exceptions, in a program. The try block tests a block of code for errors, and the except block handles the error."
      ],
      "metadata": {
        "id": "yQyCJe29lfhA"
      }
    },
    {
      "cell_type": "markdown",
      "source": [
        "Q15.How does Python's garbage collection system work?\n",
        "\n",
        ".Python's garbage collection system automatically removes objects from memory that are no longer in use. It uses two main methods to do this: reference counting and generational garbage collection.\n",
        "\n",
        "Reference counting:\n",
        "\n",
        "Keeps track of how many references an object has\n",
        "When an object's reference count reaches zero, it's removed from memory.\n",
        "\n",
        "Generational garbage collection:\n",
        "\n",
        "Divides memory into generations, typically three: young, middle-aged, and old\n",
        "Objects start in the young generation and move to older generations if they survive garbage collection cycles\n",
        "Uses the mark-and-sweep algorithm to identify which objects are reachable and which are not."
      ],
      "metadata": {
        "id": "038KB0bGl6i_"
      }
    },
    {
      "cell_type": "markdown",
      "source": [
        "Q16.What is the purpose of the else block in exception handling?\n",
        "\n",
        ".The purpose of the else block in exception handling is to execute code when there are no exceptions raised in the try block. It's useful for performing specific actions when the try block succeeds."
      ],
      "metadata": {
        "id": "QVyCJV2pmikp"
      }
    },
    {
      "cell_type": "markdown",
      "source": [
        "Q17.What are the common logging levels in Python?\n",
        "\n",
        ".The specific log levels available to you may defer depending on the programming language, logging framework, or service in use. However, in most cases, you can expect to encounter levels such as FATAL , ERROR , WARN , INFO , DEBUG , and TRACE ."
      ],
      "metadata": {
        "id": "cGk0MXdBm6tp"
      }
    },
    {
      "cell_type": "markdown",
      "source": [
        "Q18.What is the difference between os.fork() and multiprocessing in Python?\n",
        "\n",
        ".Multiprocessing in Python is a built-in package that allows a program to run multiple tasks at the same time. It's a technique that uses multiple cores to improve the performance and efficiency of a program.\n",
        "\n",
        " Forking and spawning are two different start methods for new processes.\n",
        "Fork is the default on Linux (it isn't available on Windows), while Windows and MacOS use spawn by default. When a process is forked the child process inherits all the same variables in the same state as they were in the parent."
      ],
      "metadata": {
        "id": "U8rkL4A_nVyA"
      }
    },
    {
      "cell_type": "markdown",
      "source": [
        "Q19.What is the importance of closing a file in Python?\n",
        "\n",
        ".Closing a file after use is important because it frees up system resources that are being used by the file. When a file is open, the operating system allocates memory and other resources to the file, which can potentially impact the performance of the system if too many files are open at the same time."
      ],
      "metadata": {
        "id": "n9iYqIUwpxiP"
      }
    },
    {
      "cell_type": "markdown",
      "source": [
        "Q20.What is the difference between file.read() and file.readline() in Python?\n",
        "\n",
        ".In Python, the `read()` method is used to read a specified number of characters from a file or input stream, while the `readline()` method is used to read a single line from a file or input stream. The `read()` method will read the entire content of the file or stream if no argument is provided, returning a string."
      ],
      "metadata": {
        "id": "xrff0OX5qSLg"
      }
    },
    {
      "cell_type": "markdown",
      "source": [
        "Q21.What is the logging module in Python used for?\n",
        "\n",
        ".The logging module in Python is used to track events that happen while a program is running. It's a built-in module in the Python standard library."
      ],
      "metadata": {
        "id": "iDK3eZYZqwRx"
      }
    },
    {
      "cell_type": "markdown",
      "source": [
        "Q22.What is the os module in Python used for in file handling?\n",
        "\n",
        ".Python has a built-in os module with methods for interacting with the operating system, like creating files and directories, management of files and directories, input, output, environment variables, process management, etc."
      ],
      "metadata": {
        "id": "zCu2e0pvrUt1"
      }
    },
    {
      "cell_type": "markdown",
      "source": [
        "Q23.What are the challenges associated with memory management in Python?\n",
        "\n",
        ".Memory management in Python can be challenging because of:\n",
        "\n",
        "Memory leaks:\n",
        "\n",
        "Memory leaks can be difficult to find and can grow over time. They can be especially harmful if they occur in frequently executed code.\n",
        "\n",
        "Slower program runtimes:\n",
        "\n",
        "Python may hold freed memory in the interpreter instead of freeing it up for the operating system.\n",
        "\n",
        "Inefficient memory usage:\n",
        "\n",
        "Python's small object manager may not always return memory to the operating system.\n",
        "\n",
        "Memory intensive:\n",
        "\n",
        "Python can use more RAM than programs written in other languages."
      ],
      "metadata": {
        "id": "0wWPKdBPrq7_"
      }
    },
    {
      "cell_type": "markdown",
      "source": [
        "Q24.How do you raise an exception manually in Python?\n",
        "\n",
        ".To manually raise an exception in Python, you can use the raise keyword. This keyword allows you to throw an exception with a custom error message."
      ],
      "metadata": {
        "id": "iqN3icoAsdw_"
      }
    },
    {
      "cell_type": "markdown",
      "source": [
        "Q25.Why is it important to use multithreading in certain applications?\n",
        "\n",
        ".Multithreading is important in certain applications because it allows for the simultaneous execution of multiple tasks within a single program, significantly improving responsiveness and performance by utilizing multiple CPU cores efficiently, especially when dealing with operations that involve waiting for input/output."
      ],
      "metadata": {
        "id": "qG0Apr1bsxcg"
      }
    },
    {
      "cell_type": "markdown",
      "source": [
        "#PRACTICAL QUESTIONS:"
      ],
      "metadata": {
        "id": "Pw0uzf3RtPW2"
      }
    },
    {
      "cell_type": "markdown",
      "source": [
        "Q1.How can you open a file for writing in Python and write a string to it."
      ],
      "metadata": {
        "id": "LVQLzmYUtfve"
      }
    },
    {
      "cell_type": "code",
      "source": [
        " Open the file in write mode ('w')#\n",
        "with open('filename.txt', 'w') as file:\n",
        "\n",
        "    file.write('Hello, world!')\n"
      ],
      "metadata": {
        "id": "Y1AmsA1Vt0CG"
      },
      "execution_count": 1,
      "outputs": []
    },
    {
      "cell_type": "markdown",
      "source": [
        "Q2.Write a Python program to read the contents of a file and print each line."
      ],
      "metadata": {
        "id": "Lx_UE0x1uWcn"
      }
    },
    {
      "cell_type": "code",
      "source": [
        "\n",
        "with open('filename.txt', 'r') as file:\n",
        "\n",
        "    for line in file:\n",
        "        print(line, end='')\n"
      ],
      "metadata": {
        "colab": {
          "base_uri": "https://localhost:8080/"
        },
        "id": "mV4U-HvQufpv",
        "outputId": "63cc695d-883e-46a5-df94-b6440d7237e5"
      },
      "execution_count": 2,
      "outputs": [
        {
          "output_type": "stream",
          "name": "stdout",
          "text": [
            "Hello, world!"
          ]
        }
      ]
    },
    {
      "cell_type": "markdown",
      "source": [
        "Q3.How would you handle a case where the file doesn't exist while trying to open it for reading."
      ],
      "metadata": {
        "id": "37qa6SQ0vDlX"
      }
    },
    {
      "cell_type": "code",
      "source": [
        "try:\n",
        "\n",
        "    with open('filename.txt', 'r') as file:\n",
        "\n",
        "        for line in file:\n",
        "            print(line, end='')\n",
        "\n",
        "except FileNotFoundError:\n",
        "\n",
        "    print(\"The file does not exist.\")\n"
      ],
      "metadata": {
        "colab": {
          "base_uri": "https://localhost:8080/"
        },
        "id": "0jvs-dsqvNs1",
        "outputId": "6755ece6-9fd1-44f0-ac59-dda7a26a90ed"
      },
      "execution_count": 3,
      "outputs": [
        {
          "output_type": "stream",
          "name": "stdout",
          "text": [
            "Hello, world!"
          ]
        }
      ]
    },
    {
      "cell_type": "markdown",
      "source": [
        "Q4.Write a Python script that reads from one file and writes its content to another file."
      ],
      "metadata": {
        "id": "16ysGrpnvsVh"
      }
    },
    {
      "cell_type": "code",
      "source": [
        "try:\n",
        "\n",
        "    with open('source_file.txt', 'r') as source_file:\n",
        "\n",
        "        with open('destination_file.txt', 'w') as dest_file:\n",
        "\n",
        "            for line in source_file:\n",
        "                dest_file.write(line)\n",
        "    print(\"Content copied successfully!\")\n",
        "\n",
        "except FileNotFoundError:\n",
        "    print(\"The source file does not exist.\")\n"
      ],
      "metadata": {
        "colab": {
          "base_uri": "https://localhost:8080/"
        },
        "id": "K6iw7NWXv1Iv",
        "outputId": "501cd7f3-f414-4b2c-90cf-bab5203a2764"
      },
      "execution_count": 4,
      "outputs": [
        {
          "output_type": "stream",
          "name": "stdout",
          "text": [
            "The source file does not exist.\n"
          ]
        }
      ]
    },
    {
      "cell_type": "markdown",
      "source": [
        "Q5.How would you catch and handle division by zero error in Python."
      ],
      "metadata": {
        "id": "jwOeyuqJwLrn"
      }
    },
    {
      "cell_type": "code",
      "source": [
        "try:\n",
        "\n",
        "    numerator = 10\n",
        "    denominator = 0\n",
        "    result = numerator / denominator\n",
        "    print(f\"The result is: {result}\")\n",
        "\n",
        "except ZeroDivisionError:\n",
        "\n",
        "    print(\"Error: Cannot divide by zero!\")\n"
      ],
      "metadata": {
        "colab": {
          "base_uri": "https://localhost:8080/"
        },
        "id": "RS3rU-cPwTEH",
        "outputId": "e7113a87-f9c7-4d81-dbf1-06991a0cb3d0"
      },
      "execution_count": 5,
      "outputs": [
        {
          "output_type": "stream",
          "name": "stdout",
          "text": [
            "Error: Cannot divide by zero!\n"
          ]
        }
      ]
    },
    {
      "cell_type": "markdown",
      "source": [
        "Q6.Write a Python program that logs an error message to a log file when a division by zero exception occurs."
      ],
      "metadata": {
        "id": "Iw2NIvb9wtxG"
      }
    },
    {
      "cell_type": "code",
      "source": [
        "import logging\n",
        "\n",
        "\n",
        "logging.basicConfig(filename='error_log.txt', level=logging.ERROR, format='%(asctime)s - %(levelname)s - %(message)s')\n",
        "\n",
        "try:\n",
        "\n",
        "    numerator = 10\n",
        "    denominator = 0\n",
        "    result = numerator / denominator\n",
        "    print(f\"The result is: {result}\")\n",
        "\n",
        "except ZeroDivisionError as e:\n",
        "\n",
        "    logging.error(f\"Division by zero error occurred: {e}\")\n",
        "    print(\"Error: Cannot divide by zero. The error has been logged.\")\n"
      ],
      "metadata": {
        "colab": {
          "base_uri": "https://localhost:8080/"
        },
        "id": "1qNmW21Yw1S9",
        "outputId": "1fa516bc-f7b1-438c-a40e-6ab9c6d0a756"
      },
      "execution_count": 6,
      "outputs": [
        {
          "output_type": "stream",
          "name": "stderr",
          "text": [
            "ERROR:root:Division by zero error occurred: division by zero\n"
          ]
        },
        {
          "output_type": "stream",
          "name": "stdout",
          "text": [
            "Error: Cannot divide by zero. The error has been logged.\n"
          ]
        }
      ]
    },
    {
      "cell_type": "markdown",
      "source": [
        "Q7.How do you log information at different levels (INFO, ERROR, WARNING) in Python using the logging module."
      ],
      "metadata": {
        "id": "cPcxZw-KxNEG"
      }
    },
    {
      "cell_type": "code",
      "source": [
        "import logging\n",
        "\n",
        "\n",
        "logging.basicConfig(filename='application.log', level=logging.DEBUG,\n",
        "                    format='%(asctime)s - %(levelname)s - %(message)s')\n",
        "\n",
        "\n",
        "logging.debug(\"This is a debug message.\")\n",
        "logging.info(\"This is an info message.\")\n",
        "logging.warning(\"This is a warning message.\")\n",
        "logging.error(\"This is an error message.\")\n",
        "logging.critical(\"This is a critical message.\")\n"
      ],
      "metadata": {
        "colab": {
          "base_uri": "https://localhost:8080/"
        },
        "id": "JVyPrCBBxSs4",
        "outputId": "e5ec3f50-b8e8-4000-a2f6-1c9dd4023c02"
      },
      "execution_count": 7,
      "outputs": [
        {
          "output_type": "stream",
          "name": "stderr",
          "text": [
            "WARNING:root:This is a warning message.\n",
            "ERROR:root:This is an error message.\n",
            "CRITICAL:root:This is a critical message.\n"
          ]
        }
      ]
    },
    {
      "cell_type": "markdown",
      "source": [
        "Q8.Write a program to handle a file opening error using exception handling."
      ],
      "metadata": {
        "id": "JmpITqokxjof"
      }
    },
    {
      "cell_type": "code",
      "source": [
        "try:\n",
        "\n",
        "    with open('non_existent_file.txt', 'r') as file:\n",
        "        content = file.read()\n",
        "        print(content)\n",
        "\n",
        "except FileNotFoundError:\n",
        "\n",
        "    print(\"Error: The file does not exist.\")\n",
        "\n",
        "except Exception as e:\n",
        "\n",
        "    print(f\"An unexpected error occurred: {e}\")\n"
      ],
      "metadata": {
        "colab": {
          "base_uri": "https://localhost:8080/"
        },
        "id": "u-bCD02xxrR2",
        "outputId": "d4ef7f3d-0ea3-458b-ed83-8193fe6ba463"
      },
      "execution_count": 8,
      "outputs": [
        {
          "output_type": "stream",
          "name": "stdout",
          "text": [
            "Error: The file does not exist.\n"
          ]
        }
      ]
    },
    {
      "cell_type": "markdown",
      "source": [
        "Q9. How can you read a file line by line and store its content in a list in Python."
      ],
      "metadata": {
        "id": "63vMHPCXx_Qm"
      }
    },
    {
      "cell_type": "code",
      "source": [
        "\n",
        "lines = []\n",
        "\n",
        "\n",
        "with open('filename.txt', 'r') as file:\n",
        "\n",
        "    lines = file.readlines()\n",
        "\n",
        "\n",
        "print(lines)\n"
      ],
      "metadata": {
        "colab": {
          "base_uri": "https://localhost:8080/"
        },
        "id": "QBRjAsIvyJzw",
        "outputId": "5102a823-6f3d-43bc-82a9-391d682ac164"
      },
      "execution_count": 9,
      "outputs": [
        {
          "output_type": "stream",
          "name": "stdout",
          "text": [
            "['Hello, world!']\n"
          ]
        }
      ]
    },
    {
      "cell_type": "markdown",
      "source": [
        "10.How can you append data to an existing file in Python."
      ],
      "metadata": {
        "id": "WFYkzrrnyfuO"
      }
    },
    {
      "cell_type": "code",
      "source": [
        "\n",
        "with open('filename.txt', 'a') as file:\n",
        "\n",
        "    file.write('This is the new data that will be appended.\\n')\n"
      ],
      "metadata": {
        "id": "Kwlaa0xVynuo"
      },
      "execution_count": 12,
      "outputs": []
    },
    {
      "cell_type": "markdown",
      "source": [
        "Q11.Write a Python program that uses a try-except block to handle an error when attempting to access a\n",
        "dictionary key that doesn't exist."
      ],
      "metadata": {
        "id": "9h_2EnAMy1ov"
      }
    },
    {
      "cell_type": "code",
      "source": [
        "\n",
        "my_dict = {'name': 'Abhi', 'age': 320}\n",
        "\n",
        "try:\n",
        "    # Attempt to access a non-existent key\n",
        "    value = my_dict['address']\n",
        "    print(f\"Address: {value}\")\n",
        "\n",
        "except KeyError as e:\n",
        "    # Handle the case where the key does not exist in the dictionary\n",
        "    print(f\"Error: Key '{e}' not found in the dictionary.\")\n"
      ],
      "metadata": {
        "colab": {
          "base_uri": "https://localhost:8080/"
        },
        "id": "f8icHUOLy-QG",
        "outputId": "514d069e-804a-4d21-9acc-7f15a5136341"
      },
      "execution_count": 14,
      "outputs": [
        {
          "output_type": "stream",
          "name": "stdout",
          "text": [
            "Error: Key ''address'' not found in the dictionary.\n"
          ]
        }
      ]
    },
    {
      "cell_type": "markdown",
      "source": [
        "Q13.How would you check if a file exists before attempting to read it in Python."
      ],
      "metadata": {
        "id": "shRGBl190ir-"
      }
    },
    {
      "cell_type": "code",
      "source": [
        "from pathlib import Path\n",
        "\n",
        "\n",
        "file_path = Path('filename.txt')\n",
        "\n",
        "\n",
        "if file_path.exists():\n",
        "    with open(file_path, 'r') as file:\n",
        "        content = file.read()\n",
        "        print(content)\n",
        "else:\n",
        "    print(\"Error: The file does not exist.\")\n"
      ],
      "metadata": {
        "colab": {
          "base_uri": "https://localhost:8080/"
        },
        "id": "tCJfhduZ0s9f",
        "outputId": "52ecfc86-8df9-4dc6-9408-58116b61158f"
      },
      "execution_count": 16,
      "outputs": [
        {
          "output_type": "stream",
          "name": "stdout",
          "text": [
            "Hello, world!This is the new data that will be appended.\n",
            "This is the new data that will be appended.\n",
            "This is the new data that will be appended.\n",
            "\n"
          ]
        }
      ]
    },
    {
      "cell_type": "markdown",
      "source": [
        "Q14.Write a program that uses the logging module to log both informational and error messages."
      ],
      "metadata": {
        "id": "Xv0YHkTY1Dzo"
      }
    },
    {
      "cell_type": "code",
      "source": [
        "import logging\n",
        "\n",
        "\n",
        "logging.basicConfig(\n",
        "    filename='app.log',\n",
        "    level=logging.DEBUG,\n",
        "    format='%(asctime)s - %(levelname)s - %(message)s'\n",
        ")\n",
        "\n",
        "\n",
        "logging.info(\"This is an informational message.\")\n",
        "\n",
        "logging.warning(\"This is a warning message.\")\n",
        "\n",
        "\n",
        "logging.error(\"This is an error message.\")\n",
        "\n",
        "\n",
        "logging.critical(\"This is a critical error message.\")\n",
        "\n",
        "try:\n",
        "    num1 = 10\n",
        "    num2 = 0\n",
        "    result = num1 / num2\n",
        "except ZeroDivisionError as e:\n",
        "    logging.error(f\"Error occurred: {e}\")\n"
      ],
      "metadata": {
        "colab": {
          "base_uri": "https://localhost:8080/"
        },
        "id": "jbVUB7G41KaX",
        "outputId": "8f149876-b41c-4bc8-8202-2c8da715bf14"
      },
      "execution_count": 17,
      "outputs": [
        {
          "output_type": "stream",
          "name": "stderr",
          "text": [
            "WARNING:root:This is a warning message.\n",
            "ERROR:root:This is an error message.\n",
            "CRITICAL:root:This is a critical error message.\n",
            "ERROR:root:Error occurred: division by zero\n"
          ]
        }
      ]
    },
    {
      "cell_type": "markdown",
      "source": [
        "Q15. Write a Python program that prints the content of a file and handles the case when the file is empty."
      ],
      "metadata": {
        "id": "9ibqUl0K1tHn"
      }
    },
    {
      "cell_type": "code",
      "source": [
        "try:\n",
        "\n",
        "    with open('filename.txt', 'r') as file:\n",
        "        content = file.read()\n",
        "\n",
        "\n",
        "        if not content:\n",
        "            print(\"The file is empty.\")\n",
        "        else:\n",
        "            print(\"Content of the file:\")\n",
        "            print(content)\n",
        "\n",
        "except FileNotFoundError:\n",
        "    print(\"Error: The file does not exist.\")\n",
        "except Exception as e:\n",
        "    print(f\"An unexpected error occurred: {e}\")\n"
      ],
      "metadata": {
        "colab": {
          "base_uri": "https://localhost:8080/"
        },
        "id": "MSFa6YVk13bH",
        "outputId": "b47cc364-42be-4a3c-c128-a561ac3df793"
      },
      "execution_count": 18,
      "outputs": [
        {
          "output_type": "stream",
          "name": "stdout",
          "text": [
            "Content of the file:\n",
            "Hello, world!This is the new data that will be appended.\n",
            "This is the new data that will be appended.\n",
            "This is the new data that will be appended.\n",
            "\n"
          ]
        }
      ]
    },
    {
      "cell_type": "markdown",
      "source": [
        "Q16.Demonstrate how to use memory profiling to check the memory usage of a small program."
      ],
      "metadata": {
        "id": "7lhAPThq2NHY"
      }
    },
    {
      "cell_type": "code",
      "source": [
        "from memory_profiler import profile\n",
        "\n",
        "\n",
        "@profile\n",
        "def my_function():\n",
        "    a = [i for i in range(10000)]\n",
        "    b = [i * 2 for i in range(10000)]\n",
        "    c = {i: i * 2 for i in range(10000)}\n",
        "    return a, b, c\n",
        "\n",
        "\n",
        "if __name__ == \"__main__\":\n",
        "    my_function()\n",
        "\n",
        "python -m memory_profiler your_script.py\n"
      ],
      "metadata": {
        "id": "cVfb2rQX20Vf"
      },
      "execution_count": null,
      "outputs": []
    },
    {
      "cell_type": "markdown",
      "source": [
        "Q17. Write a Python program to create and write a list of numbers to a file, one number per line."
      ],
      "metadata": {
        "id": "PdbLyCtt3WFy"
      }
    },
    {
      "cell_type": "code",
      "source": [
        "\n",
        "numbers = [1, 2, 3, 4, 5, 6, 7, 8, 9, 10]\n",
        "\n",
        "\n",
        "with open('numbers.txt', 'w') as file:\n",
        "\n",
        "    for number in numbers:\n",
        "        file.write(f\"{number}\\n\")\n",
        "\n",
        "print(\"Numbers have been written to 'numbers.txt'.\")\n"
      ],
      "metadata": {
        "id": "V__DIhZ-55WV"
      },
      "execution_count": 29,
      "outputs": []
    },
    {
      "cell_type": "markdown",
      "source": [
        "Q18.How would you implement a basic logging setup that logs to a file with rotation after 1MB."
      ],
      "metadata": {
        "id": "Mnn1pDw16AlY"
      }
    },
    {
      "cell_type": "code",
      "source": [
        "import logging\n",
        "from logging.handlers import RotatingFileHandler\n",
        "\n",
        "log_file = 'app.log'\n",
        "\n",
        "handler = RotatingFileHandler(log_file, maxBytes=1 * 1024 * 1024, backupCount=3)\n",
        "handler.setLevel(logging.INFO)\n",
        "\n",
        "\n",
        "formatter = logging.Formatter('%(asctime)s - %(levelname)s - %(message)s')\n",
        "\n",
        "handler.setFormatter(formatter)\n",
        "\n",
        "logger = logging.getLogger()\n",
        "logger.setLevel(logging.INFO)\n",
        "logger.addHandler(handler)\n",
        "\n",
        "\n",
        "logger.info(\"This is an info message.\")\n",
        "logger.warning(\"This is a warning message.\")\n",
        "logger.error(\"This is an error message.\")\n",
        "logger.debug(\"This is a debug message, which will not be logged because the level is set to INFO.\")\n",
        "\n",
        "\n",
        "for i in range(1000):\n",
        "    logger.info(f\"Logging line {i+1}\")\n"
      ],
      "metadata": {
        "colab": {
          "base_uri": "https://localhost:8080/"
        },
        "id": "Sh-r0aW96dio",
        "outputId": "1ff028db-f4c3-4d2e-ee2d-d460d68d09a0"
      },
      "execution_count": 30,
      "outputs": [
        {
          "output_type": "stream",
          "name": "stderr",
          "text": [
            "INFO:root:This is an info message.\n",
            "WARNING:root:This is a warning message.\n",
            "ERROR:root:This is an error message.\n",
            "INFO:root:Logging line 1\n",
            "INFO:root:Logging line 2\n",
            "INFO:root:Logging line 3\n",
            "INFO:root:Logging line 4\n",
            "INFO:root:Logging line 5\n",
            "INFO:root:Logging line 6\n",
            "INFO:root:Logging line 7\n",
            "INFO:root:Logging line 8\n",
            "INFO:root:Logging line 9\n",
            "INFO:root:Logging line 10\n",
            "INFO:root:Logging line 11\n",
            "INFO:root:Logging line 12\n",
            "INFO:root:Logging line 13\n",
            "INFO:root:Logging line 14\n",
            "INFO:root:Logging line 15\n",
            "INFO:root:Logging line 16\n",
            "INFO:root:Logging line 17\n",
            "INFO:root:Logging line 18\n",
            "INFO:root:Logging line 19\n",
            "INFO:root:Logging line 20\n",
            "INFO:root:Logging line 21\n",
            "INFO:root:Logging line 22\n",
            "INFO:root:Logging line 23\n",
            "INFO:root:Logging line 24\n",
            "INFO:root:Logging line 25\n",
            "INFO:root:Logging line 26\n",
            "INFO:root:Logging line 27\n",
            "INFO:root:Logging line 28\n",
            "INFO:root:Logging line 29\n",
            "INFO:root:Logging line 30\n",
            "INFO:root:Logging line 31\n",
            "INFO:root:Logging line 32\n",
            "INFO:root:Logging line 33\n",
            "INFO:root:Logging line 34\n",
            "INFO:root:Logging line 35\n",
            "INFO:root:Logging line 36\n",
            "INFO:root:Logging line 37\n",
            "INFO:root:Logging line 38\n",
            "INFO:root:Logging line 39\n",
            "INFO:root:Logging line 40\n",
            "INFO:root:Logging line 41\n",
            "INFO:root:Logging line 42\n",
            "INFO:root:Logging line 43\n",
            "INFO:root:Logging line 44\n",
            "INFO:root:Logging line 45\n",
            "INFO:root:Logging line 46\n",
            "INFO:root:Logging line 47\n",
            "INFO:root:Logging line 48\n",
            "INFO:root:Logging line 49\n",
            "INFO:root:Logging line 50\n",
            "INFO:root:Logging line 51\n",
            "INFO:root:Logging line 52\n",
            "INFO:root:Logging line 53\n",
            "INFO:root:Logging line 54\n",
            "INFO:root:Logging line 55\n",
            "INFO:root:Logging line 56\n",
            "INFO:root:Logging line 57\n",
            "INFO:root:Logging line 58\n",
            "INFO:root:Logging line 59\n",
            "INFO:root:Logging line 60\n",
            "INFO:root:Logging line 61\n",
            "INFO:root:Logging line 62\n",
            "INFO:root:Logging line 63\n",
            "INFO:root:Logging line 64\n",
            "INFO:root:Logging line 65\n",
            "INFO:root:Logging line 66\n",
            "INFO:root:Logging line 67\n",
            "INFO:root:Logging line 68\n",
            "INFO:root:Logging line 69\n",
            "INFO:root:Logging line 70\n",
            "INFO:root:Logging line 71\n",
            "INFO:root:Logging line 72\n",
            "INFO:root:Logging line 73\n",
            "INFO:root:Logging line 74\n",
            "INFO:root:Logging line 75\n",
            "INFO:root:Logging line 76\n",
            "INFO:root:Logging line 77\n",
            "INFO:root:Logging line 78\n",
            "INFO:root:Logging line 79\n",
            "INFO:root:Logging line 80\n",
            "INFO:root:Logging line 81\n",
            "INFO:root:Logging line 82\n",
            "INFO:root:Logging line 83\n",
            "INFO:root:Logging line 84\n",
            "INFO:root:Logging line 85\n",
            "INFO:root:Logging line 86\n",
            "INFO:root:Logging line 87\n",
            "INFO:root:Logging line 88\n",
            "INFO:root:Logging line 89\n",
            "INFO:root:Logging line 90\n",
            "INFO:root:Logging line 91\n",
            "INFO:root:Logging line 92\n",
            "INFO:root:Logging line 93\n",
            "INFO:root:Logging line 94\n",
            "INFO:root:Logging line 95\n",
            "INFO:root:Logging line 96\n",
            "INFO:root:Logging line 97\n",
            "INFO:root:Logging line 98\n",
            "INFO:root:Logging line 99\n",
            "INFO:root:Logging line 100\n",
            "INFO:root:Logging line 101\n",
            "INFO:root:Logging line 102\n",
            "INFO:root:Logging line 103\n",
            "INFO:root:Logging line 104\n",
            "INFO:root:Logging line 105\n",
            "INFO:root:Logging line 106\n",
            "INFO:root:Logging line 107\n",
            "INFO:root:Logging line 108\n",
            "INFO:root:Logging line 109\n",
            "INFO:root:Logging line 110\n",
            "INFO:root:Logging line 111\n",
            "INFO:root:Logging line 112\n",
            "INFO:root:Logging line 113\n",
            "INFO:root:Logging line 114\n",
            "INFO:root:Logging line 115\n",
            "INFO:root:Logging line 116\n",
            "INFO:root:Logging line 117\n",
            "INFO:root:Logging line 118\n",
            "INFO:root:Logging line 119\n",
            "INFO:root:Logging line 120\n",
            "INFO:root:Logging line 121\n",
            "INFO:root:Logging line 122\n",
            "INFO:root:Logging line 123\n",
            "INFO:root:Logging line 124\n",
            "INFO:root:Logging line 125\n",
            "INFO:root:Logging line 126\n",
            "INFO:root:Logging line 127\n",
            "INFO:root:Logging line 128\n",
            "INFO:root:Logging line 129\n",
            "INFO:root:Logging line 130\n",
            "INFO:root:Logging line 131\n",
            "INFO:root:Logging line 132\n",
            "INFO:root:Logging line 133\n",
            "INFO:root:Logging line 134\n",
            "INFO:root:Logging line 135\n",
            "INFO:root:Logging line 136\n",
            "INFO:root:Logging line 137\n",
            "INFO:root:Logging line 138\n",
            "INFO:root:Logging line 139\n",
            "INFO:root:Logging line 140\n",
            "INFO:root:Logging line 141\n",
            "INFO:root:Logging line 142\n",
            "INFO:root:Logging line 143\n",
            "INFO:root:Logging line 144\n",
            "INFO:root:Logging line 145\n",
            "INFO:root:Logging line 146\n",
            "INFO:root:Logging line 147\n",
            "INFO:root:Logging line 148\n",
            "INFO:root:Logging line 149\n",
            "INFO:root:Logging line 150\n",
            "INFO:root:Logging line 151\n",
            "INFO:root:Logging line 152\n",
            "INFO:root:Logging line 153\n",
            "INFO:root:Logging line 154\n",
            "INFO:root:Logging line 155\n",
            "INFO:root:Logging line 156\n",
            "INFO:root:Logging line 157\n",
            "INFO:root:Logging line 158\n",
            "INFO:root:Logging line 159\n",
            "INFO:root:Logging line 160\n",
            "INFO:root:Logging line 161\n",
            "INFO:root:Logging line 162\n",
            "INFO:root:Logging line 163\n",
            "INFO:root:Logging line 164\n",
            "INFO:root:Logging line 165\n",
            "INFO:root:Logging line 166\n",
            "INFO:root:Logging line 167\n",
            "INFO:root:Logging line 168\n",
            "INFO:root:Logging line 169\n",
            "INFO:root:Logging line 170\n",
            "INFO:root:Logging line 171\n",
            "INFO:root:Logging line 172\n",
            "INFO:root:Logging line 173\n",
            "INFO:root:Logging line 174\n",
            "INFO:root:Logging line 175\n",
            "INFO:root:Logging line 176\n",
            "INFO:root:Logging line 177\n",
            "INFO:root:Logging line 178\n",
            "INFO:root:Logging line 179\n",
            "INFO:root:Logging line 180\n",
            "INFO:root:Logging line 181\n",
            "INFO:root:Logging line 182\n",
            "INFO:root:Logging line 183\n",
            "INFO:root:Logging line 184\n",
            "INFO:root:Logging line 185\n",
            "INFO:root:Logging line 186\n",
            "INFO:root:Logging line 187\n",
            "INFO:root:Logging line 188\n",
            "INFO:root:Logging line 189\n",
            "INFO:root:Logging line 190\n",
            "INFO:root:Logging line 191\n",
            "INFO:root:Logging line 192\n",
            "INFO:root:Logging line 193\n",
            "INFO:root:Logging line 194\n",
            "INFO:root:Logging line 195\n",
            "INFO:root:Logging line 196\n",
            "INFO:root:Logging line 197\n",
            "INFO:root:Logging line 198\n",
            "INFO:root:Logging line 199\n",
            "INFO:root:Logging line 200\n",
            "INFO:root:Logging line 201\n",
            "INFO:root:Logging line 202\n",
            "INFO:root:Logging line 203\n",
            "INFO:root:Logging line 204\n",
            "INFO:root:Logging line 205\n",
            "INFO:root:Logging line 206\n",
            "INFO:root:Logging line 207\n",
            "INFO:root:Logging line 208\n",
            "INFO:root:Logging line 209\n",
            "INFO:root:Logging line 210\n",
            "INFO:root:Logging line 211\n",
            "INFO:root:Logging line 212\n",
            "INFO:root:Logging line 213\n",
            "INFO:root:Logging line 214\n",
            "INFO:root:Logging line 215\n",
            "INFO:root:Logging line 216\n",
            "INFO:root:Logging line 217\n",
            "INFO:root:Logging line 218\n",
            "INFO:root:Logging line 219\n",
            "INFO:root:Logging line 220\n",
            "INFO:root:Logging line 221\n",
            "INFO:root:Logging line 222\n",
            "INFO:root:Logging line 223\n",
            "INFO:root:Logging line 224\n",
            "INFO:root:Logging line 225\n",
            "INFO:root:Logging line 226\n",
            "INFO:root:Logging line 227\n",
            "INFO:root:Logging line 228\n",
            "INFO:root:Logging line 229\n",
            "INFO:root:Logging line 230\n",
            "INFO:root:Logging line 231\n",
            "INFO:root:Logging line 232\n",
            "INFO:root:Logging line 233\n",
            "INFO:root:Logging line 234\n",
            "INFO:root:Logging line 235\n",
            "INFO:root:Logging line 236\n",
            "INFO:root:Logging line 237\n",
            "INFO:root:Logging line 238\n",
            "INFO:root:Logging line 239\n",
            "INFO:root:Logging line 240\n",
            "INFO:root:Logging line 241\n",
            "INFO:root:Logging line 242\n",
            "INFO:root:Logging line 243\n",
            "INFO:root:Logging line 244\n",
            "INFO:root:Logging line 245\n",
            "INFO:root:Logging line 246\n",
            "INFO:root:Logging line 247\n",
            "INFO:root:Logging line 248\n",
            "INFO:root:Logging line 249\n",
            "INFO:root:Logging line 250\n",
            "INFO:root:Logging line 251\n",
            "INFO:root:Logging line 252\n",
            "INFO:root:Logging line 253\n",
            "INFO:root:Logging line 254\n",
            "INFO:root:Logging line 255\n",
            "INFO:root:Logging line 256\n",
            "INFO:root:Logging line 257\n",
            "INFO:root:Logging line 258\n",
            "INFO:root:Logging line 259\n",
            "INFO:root:Logging line 260\n",
            "INFO:root:Logging line 261\n",
            "INFO:root:Logging line 262\n",
            "INFO:root:Logging line 263\n",
            "INFO:root:Logging line 264\n",
            "INFO:root:Logging line 265\n",
            "INFO:root:Logging line 266\n",
            "INFO:root:Logging line 267\n",
            "INFO:root:Logging line 268\n",
            "INFO:root:Logging line 269\n",
            "INFO:root:Logging line 270\n",
            "INFO:root:Logging line 271\n",
            "INFO:root:Logging line 272\n",
            "INFO:root:Logging line 273\n",
            "INFO:root:Logging line 274\n",
            "INFO:root:Logging line 275\n",
            "INFO:root:Logging line 276\n",
            "INFO:root:Logging line 277\n",
            "INFO:root:Logging line 278\n",
            "INFO:root:Logging line 279\n",
            "INFO:root:Logging line 280\n",
            "INFO:root:Logging line 281\n",
            "INFO:root:Logging line 282\n",
            "INFO:root:Logging line 283\n",
            "INFO:root:Logging line 284\n",
            "INFO:root:Logging line 285\n",
            "INFO:root:Logging line 286\n",
            "INFO:root:Logging line 287\n",
            "INFO:root:Logging line 288\n",
            "INFO:root:Logging line 289\n",
            "INFO:root:Logging line 290\n",
            "INFO:root:Logging line 291\n",
            "INFO:root:Logging line 292\n",
            "INFO:root:Logging line 293\n",
            "INFO:root:Logging line 294\n",
            "INFO:root:Logging line 295\n",
            "INFO:root:Logging line 296\n",
            "INFO:root:Logging line 297\n",
            "INFO:root:Logging line 298\n",
            "INFO:root:Logging line 299\n",
            "INFO:root:Logging line 300\n",
            "INFO:root:Logging line 301\n",
            "INFO:root:Logging line 302\n",
            "INFO:root:Logging line 303\n",
            "INFO:root:Logging line 304\n",
            "INFO:root:Logging line 305\n",
            "INFO:root:Logging line 306\n",
            "INFO:root:Logging line 307\n",
            "INFO:root:Logging line 308\n",
            "INFO:root:Logging line 309\n",
            "INFO:root:Logging line 310\n",
            "INFO:root:Logging line 311\n",
            "INFO:root:Logging line 312\n",
            "INFO:root:Logging line 313\n",
            "INFO:root:Logging line 314\n",
            "INFO:root:Logging line 315\n",
            "INFO:root:Logging line 316\n",
            "INFO:root:Logging line 317\n",
            "INFO:root:Logging line 318\n",
            "INFO:root:Logging line 319\n",
            "INFO:root:Logging line 320\n",
            "INFO:root:Logging line 321\n",
            "INFO:root:Logging line 322\n",
            "INFO:root:Logging line 323\n",
            "INFO:root:Logging line 324\n",
            "INFO:root:Logging line 325\n",
            "INFO:root:Logging line 326\n",
            "INFO:root:Logging line 327\n",
            "INFO:root:Logging line 328\n",
            "INFO:root:Logging line 329\n",
            "INFO:root:Logging line 330\n",
            "INFO:root:Logging line 331\n",
            "INFO:root:Logging line 332\n",
            "INFO:root:Logging line 333\n",
            "INFO:root:Logging line 334\n",
            "INFO:root:Logging line 335\n",
            "INFO:root:Logging line 336\n",
            "INFO:root:Logging line 337\n",
            "INFO:root:Logging line 338\n",
            "INFO:root:Logging line 339\n",
            "INFO:root:Logging line 340\n",
            "INFO:root:Logging line 341\n",
            "INFO:root:Logging line 342\n",
            "INFO:root:Logging line 343\n",
            "INFO:root:Logging line 344\n",
            "INFO:root:Logging line 345\n",
            "INFO:root:Logging line 346\n",
            "INFO:root:Logging line 347\n",
            "INFO:root:Logging line 348\n",
            "INFO:root:Logging line 349\n",
            "INFO:root:Logging line 350\n",
            "INFO:root:Logging line 351\n",
            "INFO:root:Logging line 352\n",
            "INFO:root:Logging line 353\n",
            "INFO:root:Logging line 354\n",
            "INFO:root:Logging line 355\n",
            "INFO:root:Logging line 356\n",
            "INFO:root:Logging line 357\n",
            "INFO:root:Logging line 358\n",
            "INFO:root:Logging line 359\n",
            "INFO:root:Logging line 360\n",
            "INFO:root:Logging line 361\n",
            "INFO:root:Logging line 362\n",
            "INFO:root:Logging line 363\n",
            "INFO:root:Logging line 364\n",
            "INFO:root:Logging line 365\n",
            "INFO:root:Logging line 366\n",
            "INFO:root:Logging line 367\n",
            "INFO:root:Logging line 368\n",
            "INFO:root:Logging line 369\n",
            "INFO:root:Logging line 370\n",
            "INFO:root:Logging line 371\n",
            "INFO:root:Logging line 372\n",
            "INFO:root:Logging line 373\n",
            "INFO:root:Logging line 374\n",
            "INFO:root:Logging line 375\n",
            "INFO:root:Logging line 376\n",
            "INFO:root:Logging line 377\n",
            "INFO:root:Logging line 378\n",
            "INFO:root:Logging line 379\n",
            "INFO:root:Logging line 380\n",
            "INFO:root:Logging line 381\n",
            "INFO:root:Logging line 382\n",
            "INFO:root:Logging line 383\n",
            "INFO:root:Logging line 384\n",
            "INFO:root:Logging line 385\n",
            "INFO:root:Logging line 386\n",
            "INFO:root:Logging line 387\n",
            "INFO:root:Logging line 388\n",
            "INFO:root:Logging line 389\n",
            "INFO:root:Logging line 390\n",
            "INFO:root:Logging line 391\n",
            "INFO:root:Logging line 392\n",
            "INFO:root:Logging line 393\n",
            "INFO:root:Logging line 394\n",
            "INFO:root:Logging line 395\n",
            "INFO:root:Logging line 396\n",
            "INFO:root:Logging line 397\n",
            "INFO:root:Logging line 398\n",
            "INFO:root:Logging line 399\n",
            "INFO:root:Logging line 400\n",
            "INFO:root:Logging line 401\n",
            "INFO:root:Logging line 402\n",
            "INFO:root:Logging line 403\n",
            "INFO:root:Logging line 404\n",
            "INFO:root:Logging line 405\n",
            "INFO:root:Logging line 406\n",
            "INFO:root:Logging line 407\n",
            "INFO:root:Logging line 408\n",
            "INFO:root:Logging line 409\n",
            "INFO:root:Logging line 410\n",
            "INFO:root:Logging line 411\n",
            "INFO:root:Logging line 412\n",
            "INFO:root:Logging line 413\n",
            "INFO:root:Logging line 414\n",
            "INFO:root:Logging line 415\n",
            "INFO:root:Logging line 416\n",
            "INFO:root:Logging line 417\n",
            "INFO:root:Logging line 418\n",
            "INFO:root:Logging line 419\n",
            "INFO:root:Logging line 420\n",
            "INFO:root:Logging line 421\n",
            "INFO:root:Logging line 422\n",
            "INFO:root:Logging line 423\n",
            "INFO:root:Logging line 424\n",
            "INFO:root:Logging line 425\n",
            "INFO:root:Logging line 426\n",
            "INFO:root:Logging line 427\n",
            "INFO:root:Logging line 428\n",
            "INFO:root:Logging line 429\n",
            "INFO:root:Logging line 430\n",
            "INFO:root:Logging line 431\n",
            "INFO:root:Logging line 432\n",
            "INFO:root:Logging line 433\n",
            "INFO:root:Logging line 434\n",
            "INFO:root:Logging line 435\n",
            "INFO:root:Logging line 436\n",
            "INFO:root:Logging line 437\n",
            "INFO:root:Logging line 438\n",
            "INFO:root:Logging line 439\n",
            "INFO:root:Logging line 440\n",
            "INFO:root:Logging line 441\n",
            "INFO:root:Logging line 442\n",
            "INFO:root:Logging line 443\n",
            "INFO:root:Logging line 444\n",
            "INFO:root:Logging line 445\n",
            "INFO:root:Logging line 446\n",
            "INFO:root:Logging line 447\n",
            "INFO:root:Logging line 448\n",
            "INFO:root:Logging line 449\n",
            "INFO:root:Logging line 450\n",
            "INFO:root:Logging line 451\n",
            "INFO:root:Logging line 452\n",
            "INFO:root:Logging line 453\n",
            "INFO:root:Logging line 454\n",
            "INFO:root:Logging line 455\n",
            "INFO:root:Logging line 456\n",
            "INFO:root:Logging line 457\n",
            "INFO:root:Logging line 458\n",
            "INFO:root:Logging line 459\n",
            "INFO:root:Logging line 460\n",
            "INFO:root:Logging line 461\n",
            "INFO:root:Logging line 462\n",
            "INFO:root:Logging line 463\n",
            "INFO:root:Logging line 464\n",
            "INFO:root:Logging line 465\n",
            "INFO:root:Logging line 466\n",
            "INFO:root:Logging line 467\n",
            "INFO:root:Logging line 468\n",
            "INFO:root:Logging line 469\n",
            "INFO:root:Logging line 470\n",
            "INFO:root:Logging line 471\n",
            "INFO:root:Logging line 472\n",
            "INFO:root:Logging line 473\n",
            "INFO:root:Logging line 474\n",
            "INFO:root:Logging line 475\n",
            "INFO:root:Logging line 476\n",
            "INFO:root:Logging line 477\n",
            "INFO:root:Logging line 478\n",
            "INFO:root:Logging line 479\n",
            "INFO:root:Logging line 480\n",
            "INFO:root:Logging line 481\n",
            "INFO:root:Logging line 482\n",
            "INFO:root:Logging line 483\n",
            "INFO:root:Logging line 484\n",
            "INFO:root:Logging line 485\n",
            "INFO:root:Logging line 486\n",
            "INFO:root:Logging line 487\n",
            "INFO:root:Logging line 488\n",
            "INFO:root:Logging line 489\n",
            "INFO:root:Logging line 490\n",
            "INFO:root:Logging line 491\n",
            "INFO:root:Logging line 492\n",
            "INFO:root:Logging line 493\n",
            "INFO:root:Logging line 494\n",
            "INFO:root:Logging line 495\n",
            "INFO:root:Logging line 496\n",
            "INFO:root:Logging line 497\n",
            "INFO:root:Logging line 498\n",
            "INFO:root:Logging line 499\n",
            "INFO:root:Logging line 500\n",
            "INFO:root:Logging line 501\n",
            "INFO:root:Logging line 502\n",
            "INFO:root:Logging line 503\n",
            "INFO:root:Logging line 504\n",
            "INFO:root:Logging line 505\n",
            "INFO:root:Logging line 506\n",
            "INFO:root:Logging line 507\n",
            "INFO:root:Logging line 508\n",
            "INFO:root:Logging line 509\n",
            "INFO:root:Logging line 510\n",
            "INFO:root:Logging line 511\n",
            "INFO:root:Logging line 512\n",
            "INFO:root:Logging line 513\n",
            "INFO:root:Logging line 514\n",
            "INFO:root:Logging line 515\n",
            "INFO:root:Logging line 516\n",
            "INFO:root:Logging line 517\n",
            "INFO:root:Logging line 518\n",
            "INFO:root:Logging line 519\n",
            "INFO:root:Logging line 520\n",
            "INFO:root:Logging line 521\n",
            "INFO:root:Logging line 522\n",
            "INFO:root:Logging line 523\n",
            "INFO:root:Logging line 524\n",
            "INFO:root:Logging line 525\n",
            "INFO:root:Logging line 526\n",
            "INFO:root:Logging line 527\n",
            "INFO:root:Logging line 528\n",
            "INFO:root:Logging line 529\n",
            "INFO:root:Logging line 530\n",
            "INFO:root:Logging line 531\n",
            "INFO:root:Logging line 532\n",
            "INFO:root:Logging line 533\n",
            "INFO:root:Logging line 534\n",
            "INFO:root:Logging line 535\n",
            "INFO:root:Logging line 536\n",
            "INFO:root:Logging line 537\n",
            "INFO:root:Logging line 538\n",
            "INFO:root:Logging line 539\n",
            "INFO:root:Logging line 540\n",
            "INFO:root:Logging line 541\n",
            "INFO:root:Logging line 542\n",
            "INFO:root:Logging line 543\n",
            "INFO:root:Logging line 544\n",
            "INFO:root:Logging line 545\n",
            "INFO:root:Logging line 546\n",
            "INFO:root:Logging line 547\n",
            "INFO:root:Logging line 548\n",
            "INFO:root:Logging line 549\n",
            "INFO:root:Logging line 550\n",
            "INFO:root:Logging line 551\n",
            "INFO:root:Logging line 552\n",
            "INFO:root:Logging line 553\n",
            "INFO:root:Logging line 554\n",
            "INFO:root:Logging line 555\n",
            "INFO:root:Logging line 556\n",
            "INFO:root:Logging line 557\n",
            "INFO:root:Logging line 558\n",
            "INFO:root:Logging line 559\n",
            "INFO:root:Logging line 560\n",
            "INFO:root:Logging line 561\n",
            "INFO:root:Logging line 562\n",
            "INFO:root:Logging line 563\n",
            "INFO:root:Logging line 564\n",
            "INFO:root:Logging line 565\n",
            "INFO:root:Logging line 566\n",
            "INFO:root:Logging line 567\n",
            "INFO:root:Logging line 568\n",
            "INFO:root:Logging line 569\n",
            "INFO:root:Logging line 570\n",
            "INFO:root:Logging line 571\n",
            "INFO:root:Logging line 572\n",
            "INFO:root:Logging line 573\n",
            "INFO:root:Logging line 574\n",
            "INFO:root:Logging line 575\n",
            "INFO:root:Logging line 576\n",
            "INFO:root:Logging line 577\n",
            "INFO:root:Logging line 578\n",
            "INFO:root:Logging line 579\n",
            "INFO:root:Logging line 580\n",
            "INFO:root:Logging line 581\n",
            "INFO:root:Logging line 582\n",
            "INFO:root:Logging line 583\n",
            "INFO:root:Logging line 584\n",
            "INFO:root:Logging line 585\n",
            "INFO:root:Logging line 586\n",
            "INFO:root:Logging line 587\n",
            "INFO:root:Logging line 588\n",
            "INFO:root:Logging line 589\n",
            "INFO:root:Logging line 590\n",
            "INFO:root:Logging line 591\n",
            "INFO:root:Logging line 592\n",
            "INFO:root:Logging line 593\n",
            "INFO:root:Logging line 594\n",
            "INFO:root:Logging line 595\n",
            "INFO:root:Logging line 596\n",
            "INFO:root:Logging line 597\n",
            "INFO:root:Logging line 598\n",
            "INFO:root:Logging line 599\n",
            "INFO:root:Logging line 600\n",
            "INFO:root:Logging line 601\n",
            "INFO:root:Logging line 602\n",
            "INFO:root:Logging line 603\n",
            "INFO:root:Logging line 604\n",
            "INFO:root:Logging line 605\n",
            "INFO:root:Logging line 606\n",
            "INFO:root:Logging line 607\n",
            "INFO:root:Logging line 608\n",
            "INFO:root:Logging line 609\n",
            "INFO:root:Logging line 610\n",
            "INFO:root:Logging line 611\n",
            "INFO:root:Logging line 612\n",
            "INFO:root:Logging line 613\n",
            "INFO:root:Logging line 614\n",
            "INFO:root:Logging line 615\n",
            "INFO:root:Logging line 616\n",
            "INFO:root:Logging line 617\n",
            "INFO:root:Logging line 618\n",
            "INFO:root:Logging line 619\n",
            "INFO:root:Logging line 620\n",
            "INFO:root:Logging line 621\n",
            "INFO:root:Logging line 622\n",
            "INFO:root:Logging line 623\n",
            "INFO:root:Logging line 624\n",
            "INFO:root:Logging line 625\n",
            "INFO:root:Logging line 626\n",
            "INFO:root:Logging line 627\n",
            "INFO:root:Logging line 628\n",
            "INFO:root:Logging line 629\n",
            "INFO:root:Logging line 630\n",
            "INFO:root:Logging line 631\n",
            "INFO:root:Logging line 632\n",
            "INFO:root:Logging line 633\n",
            "INFO:root:Logging line 634\n",
            "INFO:root:Logging line 635\n",
            "INFO:root:Logging line 636\n",
            "INFO:root:Logging line 637\n",
            "INFO:root:Logging line 638\n",
            "INFO:root:Logging line 639\n",
            "INFO:root:Logging line 640\n",
            "INFO:root:Logging line 641\n",
            "INFO:root:Logging line 642\n",
            "INFO:root:Logging line 643\n",
            "INFO:root:Logging line 644\n",
            "INFO:root:Logging line 645\n",
            "INFO:root:Logging line 646\n",
            "INFO:root:Logging line 647\n",
            "INFO:root:Logging line 648\n",
            "INFO:root:Logging line 649\n",
            "INFO:root:Logging line 650\n",
            "INFO:root:Logging line 651\n",
            "INFO:root:Logging line 652\n",
            "INFO:root:Logging line 653\n",
            "INFO:root:Logging line 654\n",
            "INFO:root:Logging line 655\n",
            "INFO:root:Logging line 656\n",
            "INFO:root:Logging line 657\n",
            "INFO:root:Logging line 658\n",
            "INFO:root:Logging line 659\n",
            "INFO:root:Logging line 660\n",
            "INFO:root:Logging line 661\n",
            "INFO:root:Logging line 662\n",
            "INFO:root:Logging line 663\n",
            "INFO:root:Logging line 664\n",
            "INFO:root:Logging line 665\n",
            "INFO:root:Logging line 666\n",
            "INFO:root:Logging line 667\n",
            "INFO:root:Logging line 668\n",
            "INFO:root:Logging line 669\n",
            "INFO:root:Logging line 670\n",
            "INFO:root:Logging line 671\n",
            "INFO:root:Logging line 672\n",
            "INFO:root:Logging line 673\n",
            "INFO:root:Logging line 674\n",
            "INFO:root:Logging line 675\n",
            "INFO:root:Logging line 676\n",
            "INFO:root:Logging line 677\n",
            "INFO:root:Logging line 678\n",
            "INFO:root:Logging line 679\n",
            "INFO:root:Logging line 680\n",
            "INFO:root:Logging line 681\n",
            "INFO:root:Logging line 682\n",
            "INFO:root:Logging line 683\n",
            "INFO:root:Logging line 684\n",
            "INFO:root:Logging line 685\n",
            "INFO:root:Logging line 686\n",
            "INFO:root:Logging line 687\n",
            "INFO:root:Logging line 688\n",
            "INFO:root:Logging line 689\n",
            "INFO:root:Logging line 690\n",
            "INFO:root:Logging line 691\n",
            "INFO:root:Logging line 692\n",
            "INFO:root:Logging line 693\n",
            "INFO:root:Logging line 694\n",
            "INFO:root:Logging line 695\n",
            "INFO:root:Logging line 696\n",
            "INFO:root:Logging line 697\n",
            "INFO:root:Logging line 698\n",
            "INFO:root:Logging line 699\n",
            "INFO:root:Logging line 700\n",
            "INFO:root:Logging line 701\n",
            "INFO:root:Logging line 702\n",
            "INFO:root:Logging line 703\n",
            "INFO:root:Logging line 704\n",
            "INFO:root:Logging line 705\n",
            "INFO:root:Logging line 706\n",
            "INFO:root:Logging line 707\n",
            "INFO:root:Logging line 708\n",
            "INFO:root:Logging line 709\n",
            "INFO:root:Logging line 710\n",
            "INFO:root:Logging line 711\n",
            "INFO:root:Logging line 712\n",
            "INFO:root:Logging line 713\n",
            "INFO:root:Logging line 714\n",
            "INFO:root:Logging line 715\n",
            "INFO:root:Logging line 716\n",
            "INFO:root:Logging line 717\n",
            "INFO:root:Logging line 718\n",
            "INFO:root:Logging line 719\n",
            "INFO:root:Logging line 720\n",
            "INFO:root:Logging line 721\n",
            "INFO:root:Logging line 722\n",
            "INFO:root:Logging line 723\n",
            "INFO:root:Logging line 724\n",
            "INFO:root:Logging line 725\n",
            "INFO:root:Logging line 726\n",
            "INFO:root:Logging line 727\n",
            "INFO:root:Logging line 728\n",
            "INFO:root:Logging line 729\n",
            "INFO:root:Logging line 730\n",
            "INFO:root:Logging line 731\n",
            "INFO:root:Logging line 732\n",
            "INFO:root:Logging line 733\n",
            "INFO:root:Logging line 734\n",
            "INFO:root:Logging line 735\n",
            "INFO:root:Logging line 736\n",
            "INFO:root:Logging line 737\n",
            "INFO:root:Logging line 738\n",
            "INFO:root:Logging line 739\n",
            "INFO:root:Logging line 740\n",
            "INFO:root:Logging line 741\n",
            "INFO:root:Logging line 742\n",
            "INFO:root:Logging line 743\n",
            "INFO:root:Logging line 744\n",
            "INFO:root:Logging line 745\n",
            "INFO:root:Logging line 746\n",
            "INFO:root:Logging line 747\n",
            "INFO:root:Logging line 748\n",
            "INFO:root:Logging line 749\n",
            "INFO:root:Logging line 750\n",
            "INFO:root:Logging line 751\n",
            "INFO:root:Logging line 752\n",
            "INFO:root:Logging line 753\n",
            "INFO:root:Logging line 754\n",
            "INFO:root:Logging line 755\n",
            "INFO:root:Logging line 756\n",
            "INFO:root:Logging line 757\n",
            "INFO:root:Logging line 758\n",
            "INFO:root:Logging line 759\n",
            "INFO:root:Logging line 760\n",
            "INFO:root:Logging line 761\n",
            "INFO:root:Logging line 762\n",
            "INFO:root:Logging line 763\n",
            "INFO:root:Logging line 764\n",
            "INFO:root:Logging line 765\n",
            "INFO:root:Logging line 766\n",
            "INFO:root:Logging line 767\n",
            "INFO:root:Logging line 768\n",
            "INFO:root:Logging line 769\n",
            "INFO:root:Logging line 770\n",
            "INFO:root:Logging line 771\n",
            "INFO:root:Logging line 772\n",
            "INFO:root:Logging line 773\n",
            "INFO:root:Logging line 774\n",
            "INFO:root:Logging line 775\n",
            "INFO:root:Logging line 776\n",
            "INFO:root:Logging line 777\n",
            "INFO:root:Logging line 778\n",
            "INFO:root:Logging line 779\n",
            "INFO:root:Logging line 780\n",
            "INFO:root:Logging line 781\n",
            "INFO:root:Logging line 782\n",
            "INFO:root:Logging line 783\n",
            "INFO:root:Logging line 784\n",
            "INFO:root:Logging line 785\n",
            "INFO:root:Logging line 786\n",
            "INFO:root:Logging line 787\n",
            "INFO:root:Logging line 788\n",
            "INFO:root:Logging line 789\n",
            "INFO:root:Logging line 790\n",
            "INFO:root:Logging line 791\n",
            "INFO:root:Logging line 792\n",
            "INFO:root:Logging line 793\n",
            "INFO:root:Logging line 794\n",
            "INFO:root:Logging line 795\n",
            "INFO:root:Logging line 796\n",
            "INFO:root:Logging line 797\n",
            "INFO:root:Logging line 798\n",
            "INFO:root:Logging line 799\n",
            "INFO:root:Logging line 800\n",
            "INFO:root:Logging line 801\n",
            "INFO:root:Logging line 802\n",
            "INFO:root:Logging line 803\n",
            "INFO:root:Logging line 804\n",
            "INFO:root:Logging line 805\n",
            "INFO:root:Logging line 806\n",
            "INFO:root:Logging line 807\n",
            "INFO:root:Logging line 808\n",
            "INFO:root:Logging line 809\n",
            "INFO:root:Logging line 810\n",
            "INFO:root:Logging line 811\n",
            "INFO:root:Logging line 812\n",
            "INFO:root:Logging line 813\n",
            "INFO:root:Logging line 814\n",
            "INFO:root:Logging line 815\n",
            "INFO:root:Logging line 816\n",
            "INFO:root:Logging line 817\n",
            "INFO:root:Logging line 818\n",
            "INFO:root:Logging line 819\n",
            "INFO:root:Logging line 820\n",
            "INFO:root:Logging line 821\n",
            "INFO:root:Logging line 822\n",
            "INFO:root:Logging line 823\n",
            "INFO:root:Logging line 824\n",
            "INFO:root:Logging line 825\n",
            "INFO:root:Logging line 826\n",
            "INFO:root:Logging line 827\n",
            "INFO:root:Logging line 828\n",
            "INFO:root:Logging line 829\n",
            "INFO:root:Logging line 830\n",
            "INFO:root:Logging line 831\n",
            "INFO:root:Logging line 832\n",
            "INFO:root:Logging line 833\n",
            "INFO:root:Logging line 834\n",
            "INFO:root:Logging line 835\n",
            "INFO:root:Logging line 836\n",
            "INFO:root:Logging line 837\n",
            "INFO:root:Logging line 838\n",
            "INFO:root:Logging line 839\n",
            "INFO:root:Logging line 840\n",
            "INFO:root:Logging line 841\n",
            "INFO:root:Logging line 842\n",
            "INFO:root:Logging line 843\n",
            "INFO:root:Logging line 844\n",
            "INFO:root:Logging line 845\n",
            "INFO:root:Logging line 846\n",
            "INFO:root:Logging line 847\n",
            "INFO:root:Logging line 848\n",
            "INFO:root:Logging line 849\n",
            "INFO:root:Logging line 850\n",
            "INFO:root:Logging line 851\n",
            "INFO:root:Logging line 852\n",
            "INFO:root:Logging line 853\n",
            "INFO:root:Logging line 854\n",
            "INFO:root:Logging line 855\n",
            "INFO:root:Logging line 856\n",
            "INFO:root:Logging line 857\n",
            "INFO:root:Logging line 858\n",
            "INFO:root:Logging line 859\n",
            "INFO:root:Logging line 860\n",
            "INFO:root:Logging line 861\n",
            "INFO:root:Logging line 862\n",
            "INFO:root:Logging line 863\n",
            "INFO:root:Logging line 864\n",
            "INFO:root:Logging line 865\n",
            "INFO:root:Logging line 866\n",
            "INFO:root:Logging line 867\n",
            "INFO:root:Logging line 868\n",
            "INFO:root:Logging line 869\n",
            "INFO:root:Logging line 870\n",
            "INFO:root:Logging line 871\n",
            "INFO:root:Logging line 872\n",
            "INFO:root:Logging line 873\n",
            "INFO:root:Logging line 874\n",
            "INFO:root:Logging line 875\n",
            "INFO:root:Logging line 876\n",
            "INFO:root:Logging line 877\n",
            "INFO:root:Logging line 878\n",
            "INFO:root:Logging line 879\n",
            "INFO:root:Logging line 880\n",
            "INFO:root:Logging line 881\n",
            "INFO:root:Logging line 882\n",
            "INFO:root:Logging line 883\n",
            "INFO:root:Logging line 884\n",
            "INFO:root:Logging line 885\n",
            "INFO:root:Logging line 886\n",
            "INFO:root:Logging line 887\n",
            "INFO:root:Logging line 888\n",
            "INFO:root:Logging line 889\n",
            "INFO:root:Logging line 890\n",
            "INFO:root:Logging line 891\n",
            "INFO:root:Logging line 892\n",
            "INFO:root:Logging line 893\n",
            "INFO:root:Logging line 894\n",
            "INFO:root:Logging line 895\n",
            "INFO:root:Logging line 896\n",
            "INFO:root:Logging line 897\n",
            "INFO:root:Logging line 898\n",
            "INFO:root:Logging line 899\n",
            "INFO:root:Logging line 900\n",
            "INFO:root:Logging line 901\n",
            "INFO:root:Logging line 902\n",
            "INFO:root:Logging line 903\n",
            "INFO:root:Logging line 904\n",
            "INFO:root:Logging line 905\n",
            "INFO:root:Logging line 906\n",
            "INFO:root:Logging line 907\n",
            "INFO:root:Logging line 908\n",
            "INFO:root:Logging line 909\n",
            "INFO:root:Logging line 910\n",
            "INFO:root:Logging line 911\n",
            "INFO:root:Logging line 912\n",
            "INFO:root:Logging line 913\n",
            "INFO:root:Logging line 914\n",
            "INFO:root:Logging line 915\n",
            "INFO:root:Logging line 916\n",
            "INFO:root:Logging line 917\n",
            "INFO:root:Logging line 918\n",
            "INFO:root:Logging line 919\n",
            "INFO:root:Logging line 920\n",
            "INFO:root:Logging line 921\n",
            "INFO:root:Logging line 922\n",
            "INFO:root:Logging line 923\n",
            "INFO:root:Logging line 924\n",
            "INFO:root:Logging line 925\n",
            "INFO:root:Logging line 926\n",
            "INFO:root:Logging line 927\n",
            "INFO:root:Logging line 928\n",
            "INFO:root:Logging line 929\n",
            "INFO:root:Logging line 930\n",
            "INFO:root:Logging line 931\n",
            "INFO:root:Logging line 932\n",
            "INFO:root:Logging line 933\n",
            "INFO:root:Logging line 934\n",
            "INFO:root:Logging line 935\n",
            "INFO:root:Logging line 936\n",
            "INFO:root:Logging line 937\n",
            "INFO:root:Logging line 938\n",
            "INFO:root:Logging line 939\n",
            "INFO:root:Logging line 940\n",
            "INFO:root:Logging line 941\n",
            "INFO:root:Logging line 942\n",
            "INFO:root:Logging line 943\n",
            "INFO:root:Logging line 944\n",
            "INFO:root:Logging line 945\n",
            "INFO:root:Logging line 946\n",
            "INFO:root:Logging line 947\n",
            "INFO:root:Logging line 948\n",
            "INFO:root:Logging line 949\n",
            "INFO:root:Logging line 950\n",
            "INFO:root:Logging line 951\n",
            "INFO:root:Logging line 952\n",
            "INFO:root:Logging line 953\n",
            "INFO:root:Logging line 954\n",
            "INFO:root:Logging line 955\n",
            "INFO:root:Logging line 956\n",
            "INFO:root:Logging line 957\n",
            "INFO:root:Logging line 958\n",
            "INFO:root:Logging line 959\n",
            "INFO:root:Logging line 960\n",
            "INFO:root:Logging line 961\n",
            "INFO:root:Logging line 962\n",
            "INFO:root:Logging line 963\n",
            "INFO:root:Logging line 964\n",
            "INFO:root:Logging line 965\n",
            "INFO:root:Logging line 966\n",
            "INFO:root:Logging line 967\n",
            "INFO:root:Logging line 968\n",
            "INFO:root:Logging line 969\n",
            "INFO:root:Logging line 970\n",
            "INFO:root:Logging line 971\n",
            "INFO:root:Logging line 972\n",
            "INFO:root:Logging line 973\n",
            "INFO:root:Logging line 974\n",
            "INFO:root:Logging line 975\n",
            "INFO:root:Logging line 976\n",
            "INFO:root:Logging line 977\n",
            "INFO:root:Logging line 978\n",
            "INFO:root:Logging line 979\n",
            "INFO:root:Logging line 980\n",
            "INFO:root:Logging line 981\n",
            "INFO:root:Logging line 982\n",
            "INFO:root:Logging line 983\n",
            "INFO:root:Logging line 984\n",
            "INFO:root:Logging line 985\n",
            "INFO:root:Logging line 986\n",
            "INFO:root:Logging line 987\n",
            "INFO:root:Logging line 988\n",
            "INFO:root:Logging line 989\n",
            "INFO:root:Logging line 990\n",
            "INFO:root:Logging line 991\n",
            "INFO:root:Logging line 992\n",
            "INFO:root:Logging line 993\n",
            "INFO:root:Logging line 994\n",
            "INFO:root:Logging line 995\n",
            "INFO:root:Logging line 996\n",
            "INFO:root:Logging line 997\n",
            "INFO:root:Logging line 998\n",
            "INFO:root:Logging line 999\n",
            "INFO:root:Logging line 1000\n"
          ]
        }
      ]
    },
    {
      "cell_type": "markdown",
      "source": [
        "Q19. Write a program that handles both IndexError and KeyError using a try-except block."
      ],
      "metadata": {
        "id": "Im9j2Hxi61WA"
      }
    },
    {
      "cell_type": "code",
      "source": [
        "\n",
        "my_list = [1, 2, 3]\n",
        "my_dict = {'a': 1, 'b': 2, 'c': 3}\n",
        "\n",
        "\n",
        "try:\n",
        "\n",
        "    print(my_list[5])\n",
        "\n",
        "    print(my_dict['d'])\n",
        "\n",
        "except IndexError as e:\n",
        "    print(f\"IndexError: {e} - Invalid index in the list.\")\n",
        "\n",
        "except KeyError as e:\n",
        "    print(f\"KeyError: {e} - Invalid key in the dictionary.\")\n"
      ],
      "metadata": {
        "colab": {
          "base_uri": "https://localhost:8080/"
        },
        "id": "1AEkPOj26_J4",
        "outputId": "c7454fb8-347f-46e2-f58b-fb589a1176c9"
      },
      "execution_count": 31,
      "outputs": [
        {
          "output_type": "stream",
          "name": "stdout",
          "text": [
            "IndexError: list index out of range - Invalid index in the list.\n"
          ]
        }
      ]
    },
    {
      "cell_type": "markdown",
      "source": [
        "Q20.How would you open a file and read its contents using a context manager in Python."
      ],
      "metadata": {
        "id": "nscULiiO7Vh9"
      }
    },
    {
      "cell_type": "code",
      "source": [
        "\n",
        "with open('example.txt', 'r') as file:\n",
        "\n",
        "    content = file.read()\n",
        "\n",
        "\n",
        "print(content)\n"
      ],
      "metadata": {
        "id": "IFcEWQdi8X89"
      },
      "execution_count": null,
      "outputs": []
    },
    {
      "cell_type": "markdown",
      "source": [
        "Q21. Write a Python program that reads a file and prints the number of occurrences of a specific word."
      ],
      "metadata": {
        "id": "lBswXPlZ8p3G"
      }
    },
    {
      "cell_type": "code",
      "source": [
        "def count_word_in_file(filename, word):\n",
        "    try:\n",
        "        with open(filename, 'r') as file:\n",
        "            content = file.read()\n",
        "\n",
        "        word_count = content.lower().split().count(word.lower())\n",
        "\n",
        "        print(f\"The word '{word}' appears {word_count} times in the file.\")\n",
        "\n",
        "    except FileNotFoundError:\n",
        "        print(f\"Error: The file '{filename}' does not exist.\")\n",
        "    except Exception as e:\n",
        "        print(f\"An error occurred: {e}\")\n",
        "\n",
        "\n",
        "filename = 'example.txt'\n",
        "word_to_\n"
      ],
      "metadata": {
        "id": "rJND8Y3B8y8Y"
      },
      "execution_count": null,
      "outputs": []
    },
    {
      "cell_type": "markdown",
      "source": [
        "Q22.How can you check if a file is empty before attempting to read its contents."
      ],
      "metadata": {
        "id": "waHjNgdY9POP"
      }
    },
    {
      "cell_type": "code",
      "source": [
        "def read_file_if_not_empty(filename):\n",
        "    try:\n",
        "        with open(filename, 'r') as file:\n",
        "            content = file.read()\n",
        "            if content:\n",
        "                print(content)\n",
        "            else:\n",
        "                print(f\"The file '{filename}' is empty.\")\n",
        "    except FileNotFoundError:\n",
        "        print(f\"Error: The file '{filename}' does not exist.\")\n",
        "    except Exception as e:\n",
        "        print(f\"An error occurred: {e}\")\n",
        "\n",
        "\n",
        "filename = 'example.txt'\n",
        "read_file_if_not_empty(filename)\n"
      ],
      "metadata": {
        "colab": {
          "base_uri": "https://localhost:8080/"
        },
        "id": "jbp5thvS9jlx",
        "outputId": "a2fad4a9-a6fb-4eec-ce4e-828b547a7e82"
      },
      "execution_count": 42,
      "outputs": [
        {
          "output_type": "stream",
          "name": "stdout",
          "text": [
            "Error: The file 'example.txt' does not exist.\n"
          ]
        }
      ]
    },
    {
      "cell_type": "markdown",
      "source": [
        "Q23. Write a Python program that writes to a log file when an error occurs during file handling."
      ],
      "metadata": {
        "id": "Cv4CPzMd9stJ"
      }
    },
    {
      "cell_type": "code",
      "source": [
        "import logging\n",
        "\n",
        "\n",
        "logging.basicConfig(filename='file_error.log',\n",
        "                    level=logging.ERROR,\n",
        "                    format='%(asctime)s - %(levelname)s - %(message)s')\n",
        "\n",
        "def read_file(filename):\n",
        "    try:\n",
        "        with open(filename, 'r') as file:\n",
        "            content = file.read()\n",
        "            print(content)\n",
        "    except FileNotFoundError as e:\n",
        "        logging.error(f\"File '{filename}' not found: {e}\")\n",
        "        print(f\"Error: The file '{filename}' was not found.\")\n",
        "    except PermissionError as e:\n",
        "        logging.error(f\"Permission denied while accessing '{filename}': {e}\")\n",
        "        print(f\"Error: Permission denied while accessing '{filename}'.\")\n",
        "    except Exception as e:\n",
        "        logging.error(f\"An unexpected error occurred while handling the file '{filename}': {e}\")\n",
        "        print(f\"An unexpected error occurred. Please check the log for more details.\")\n",
        "\n",
        "\n",
        "filename = 'example.txt'\n",
        "read_file(filename)\n"
      ],
      "metadata": {
        "colab": {
          "base_uri": "https://localhost:8080/"
        },
        "id": "TomRKRuX92YW",
        "outputId": "ace78a46-8e7a-4073-a2a2-879fcf97195f"
      },
      "execution_count": 43,
      "outputs": [
        {
          "output_type": "stream",
          "name": "stderr",
          "text": [
            "ERROR:root:File 'example.txt' not found: [Errno 2] No such file or directory: 'example.txt'\n"
          ]
        },
        {
          "output_type": "stream",
          "name": "stdout",
          "text": [
            "Error: The file 'example.txt' was not found.\n"
          ]
        }
      ]
    }
  ]
}